{
 "cells": [
  {
   "cell_type": "markdown",
   "metadata": {},
   "source": [
    "_Queue (FIFO), (enqueue,dequeue)_\n",
    "- using array O(1), Using n it is O(n)\n",
    "- Apps - CPU Scheduling, Call center phone system"
   ]
  },
  {
   "cell_type": "markdown",
   "metadata": {},
   "source": [
    "_Types_\n",
    "- Simple queue(FIFO)\n",
    "- priority queue \n",
    "- double ended(From both ends)\n",
    "- circular(to make use of empty space)"
   ]
  },
  {
   "cell_type": "code",
   "execution_count": null,
   "metadata": {},
   "outputs": [],
   "source": [
    "n = int(input(\"enter n\"))\n",
    "que = []\n",
    "for i in range(n):\n",
    "    q = int(input(\"enter element\"))\n",
    "    que.append(q)\n",
    "print(que)    \n",
    "\n",
    "# dequeue element from front end(first element inserted)\n",
    "for i in range(n):\n",
    "    print(\"Removed element is \", end=\" \")\n",
    "    print(que.pop(0))\n",
    "    "
   ]
  }
 ],
 "metadata": {
  "language_info": {
   "name": "python"
  },
  "orig_nbformat": 4
 },
 "nbformat": 4,
 "nbformat_minor": 2
}
