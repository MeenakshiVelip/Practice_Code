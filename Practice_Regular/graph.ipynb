{
 "cells": [
  {
   "cell_type": "code",
   "execution_count": 1,
   "metadata": {},
   "outputs": [
    {
     "name": "stdout",
     "output_type": "stream",
     "text": [
      "{'a': ['b', 'c'], 'b': ['a', 'd'], 'c': ['a', 'd'], 'd': ['e'], 'e': ['d']}\n"
     ]
    }
   ],
   "source": [
    "#use dict to create graph \n",
    "# Vertices/Nodes - a,b,c,d,e\n",
    "# tutorialspoint\n",
    "from PIL import Image\n",
    "Graph = {\n",
    "    'a':['b','c'],\n",
    "    'b':['a','d'],\n",
    "    'c':['a','d'],\n",
    "    'd':['e'],\n",
    "    'e':['d']\n",
    "}\n",
    "\n",
    "#print the graph\n",
    "print(Graph)\n",
    "image = Image.open('Graph_img.jpg')\n",
    "image.show()"
   ]
  }
 ],
 "metadata": {
  "kernelspec": {
   "display_name": "Python 3",
   "language": "python",
   "name": "python3"
  },
  "language_info": {
   "codemirror_mode": {
    "name": "ipython",
    "version": 3
   },
   "file_extension": ".py",
   "mimetype": "text/x-python",
   "name": "python",
   "nbconvert_exporter": "python",
   "pygments_lexer": "ipython3",
   "version": "3.9.6"
  },
  "orig_nbformat": 4
 },
 "nbformat": 4,
 "nbformat_minor": 2
}
