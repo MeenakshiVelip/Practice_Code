{
 "cells": [
  {
   "cell_type": "markdown",
   "metadata": {},
   "source": [
    "_Stack - (O(1))_\n",
    "_LIFO (Push,Pop)_\n",
    "- App - evaluating expressions in compilers, in browser(back button)"
   ]
  },
  {
   "cell_type": "code",
   "execution_count": 1,
   "metadata": {},
   "outputs": [
    {
     "name": "stdout",
     "output_type": "stream",
     "text": [
      "[5, 8, 5, 2, 4]\n",
      "Poped element is  4\n",
      "Poped element is  2\n",
      "Poped element is  5\n",
      "Poped element is  8\n",
      "Poped element is  5\n"
     ]
    }
   ],
   "source": [
    "n = int(input(\"enter n\"))\n",
    "stack = []\n",
    "for i in range(n):\n",
    "    s = int(input(\"enter element\"))\n",
    "    stack.append(s)\n",
    "print(stack)    \n",
    "\n",
    "# POP element\n",
    "for i in range(n):\n",
    "    print(\"Poped element is \", end=\" \")\n",
    "    print(stack.pop())\n",
    "    "
   ]
  },
  {
   "cell_type": "markdown",
   "metadata": {},
   "source": [
    "_Balanced Parantheses_"
   ]
  },
  {
   "cell_type": "code",
   "execution_count": 1,
   "metadata": {},
   "outputs": [
    {
     "name": "stdout",
     "output_type": "stream",
     "text": [
      "True\n"
     ]
    }
   ],
   "source": [
    "def is_balanced_parentheses(s):\n",
    "    stack = []\n",
    "    opening_brackets = \"([{\"\n",
    "    closing_brackets = \")]}\"\n",
    "    \n",
    "    for char in s:\n",
    "        if char in opening_brackets:\n",
    "            stack.append(char)\n",
    "        elif char in closing_brackets:\n",
    "            if not stack:\n",
    "                return False  # Unmatched closing bracket\n",
    "            top = stack.pop()\n",
    "            if opening_brackets.index(top) != closing_brackets.index(char):\n",
    "                return False  # Mismatched opening and closing brackets\n",
    "    \n",
    "    return len(stack) == 0  # True if stack is empty (all brackets matched)\n",
    "\n",
    "# Test cases\n",
    "n = input('enter input')\n",
    "print(is_balanced_parentheses(n))\n",
    "\n"
   ]
  }
 ],
 "metadata": {
  "kernelspec": {
   "display_name": "Python 3",
   "language": "python",
   "name": "python3"
  },
  "language_info": {
   "codemirror_mode": {
    "name": "ipython",
    "version": 3
   },
   "file_extension": ".py",
   "mimetype": "text/x-python",
   "name": "python",
   "nbconvert_exporter": "python",
   "pygments_lexer": "ipython3",
   "version": "3.9.6"
  },
  "orig_nbformat": 4
 },
 "nbformat": 4,
 "nbformat_minor": 2
}
