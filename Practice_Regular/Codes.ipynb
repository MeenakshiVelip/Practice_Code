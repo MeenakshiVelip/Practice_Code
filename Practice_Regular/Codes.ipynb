{
 "cells": [
  {
   "cell_type": "markdown",
   "metadata": {},
   "source": [
    "Sum of Numbers when range is given"
   ]
  },
  {
   "cell_type": "markdown",
   "metadata": {},
   "source": [
    "_List - Mutable_, \n",
    "_Sets - Mutable,  Frozensets - Immutable_, \n",
    "_Dict - Mutable_, \n",
    "_Tuples - Immutable_, \n",
    "_Strings - Immutable_"
   ]
  },
  {
   "cell_type": "code",
   "execution_count": 4,
   "metadata": {},
   "outputs": [
    {
     "data": {
      "text/plain": [
       "55"
      ]
     },
     "execution_count": 4,
     "metadata": {},
     "output_type": "execute_result"
    }
   ],
   "source": [
    "sum(range(1,11))"
   ]
  },
  {
   "cell_type": "markdown",
   "metadata": {},
   "source": [
    "Find sum and average using sum"
   ]
  },
  {
   "cell_type": "code",
   "execution_count": 6,
   "metadata": {},
   "outputs": [
    {
     "name": "stdout",
     "output_type": "stream",
     "text": [
      "sum is = 30\n",
      "Avg is = 6\n"
     ]
    }
   ],
   "source": [
    "l = [2,4,6,8,10]\n",
    "s = sum(l)\n",
    "print(\"sum is =\",s)\n",
    "avg =s//len(l)\n",
    "print(\"Avg is =\",avg)"
   ]
  },
  {
   "cell_type": "markdown",
   "metadata": {},
   "source": [
    "Reverse list elements"
   ]
  },
  {
   "cell_type": "code",
   "execution_count": 7,
   "metadata": {},
   "outputs": [
    {
     "name": "stdout",
     "output_type": "stream",
     "text": [
      "[10, 8, 6, 4, 2]\n"
     ]
    }
   ],
   "source": [
    "l = [2,4,6,8,10]\n",
    "print(l[::-1])"
   ]
  },
  {
   "cell_type": "code",
   "execution_count": 8,
   "metadata": {},
   "outputs": [
    {
     "name": "stdout",
     "output_type": "stream",
     "text": [
      "True\n"
     ]
    }
   ],
   "source": [
    "l = [1,2,4,2,1]\n",
    "print(l==l[::-1])"
   ]
  },
  {
   "cell_type": "markdown",
   "metadata": {},
   "source": [
    "Tuples Codes"
   ]
  },
  {
   "cell_type": "code",
   "execution_count": 14,
   "metadata": {},
   "outputs": [
    {
     "name": "stdout",
     "output_type": "stream",
     "text": [
      "<class 'tuple'>\n",
      "[2, 4, 6, 8, 10]\n",
      "<class 'list'>\n",
      "30\n"
     ]
    }
   ],
   "source": [
    "t = (2,4,6,8,10)\n",
    "print(type(t))\n",
    "l = list(t)\n",
    "print(l)\n",
    "print(type(l))\n",
    "print(sum(t))"
   ]
  },
  {
   "cell_type": "code",
   "execution_count": 12,
   "metadata": {},
   "outputs": [
    {
     "name": "stdout",
     "output_type": "stream",
     "text": [
      "<class 'tuple'>\n"
     ]
    }
   ],
   "source": [
    "t = (1,)\n",
    "print(type(t))"
   ]
  },
  {
   "cell_type": "markdown",
   "metadata": {},
   "source": [
    "Sets Codes"
   ]
  },
  {
   "cell_type": "code",
   "execution_count": 15,
   "metadata": {},
   "outputs": [
    {
     "name": "stdout",
     "output_type": "stream",
     "text": [
      "<class 'set'>\n"
     ]
    }
   ],
   "source": [
    "s = {1}\n",
    "print(type(s))"
   ]
  },
  {
   "cell_type": "code",
   "execution_count": 17,
   "metadata": {},
   "outputs": [
    {
     "name": "stdout",
     "output_type": "stream",
     "text": [
      "30\n"
     ]
    }
   ],
   "source": [
    "s = {2,4,6,8,10,10}\n",
    "print(sum(s))"
   ]
  },
  {
   "cell_type": "markdown",
   "metadata": {},
   "source": [
    "Dictionary Codes"
   ]
  },
  {
   "cell_type": "code",
   "execution_count": 22,
   "metadata": {},
   "outputs": [
    {
     "name": "stdout",
     "output_type": "stream",
     "text": [
      "<class 'dict'>\n",
      "4\n",
      "dict_keys([1, 2, 3, 4])\n",
      "dict_values(['A', 'B', 'C', 'D'])\n",
      "dict_items([(1, 'A'), (2, 'B'), (3, 'C'), (4, 'D')])\n"
     ]
    }
   ],
   "source": [
    "d = {\n",
    "    1:\"A\",\n",
    "    2:\"B\",\n",
    "    3:\"C\",\n",
    "    4:\"D\"\n",
    "}\n",
    "print(type(d))\n",
    "print(len(d))\n",
    "print(d.keys())\n",
    "print(d.values())\n",
    "print(d.items())"
   ]
  },
  {
   "cell_type": "markdown",
   "metadata": {},
   "source": [
    "Strings Codes"
   ]
  },
  {
   "cell_type": "code",
   "execution_count": 3,
   "metadata": {},
   "outputs": [
    {
     "data": {
      "text/plain": [
       "str"
      ]
     },
     "execution_count": 3,
     "metadata": {},
     "output_type": "execute_result"
    }
   ],
   "source": [
    "s = \"Meenakshi\"\n",
    "type(s)"
   ]
  },
  {
   "cell_type": "code",
   "execution_count": 5,
   "metadata": {},
   "outputs": [
    {
     "name": "stdout",
     "output_type": "stream",
     "text": [
      "Meenakshi\n",
      "['M', 'e', 'e', 'n', 'a', 'k', 's', 'h', 'i']\n",
      "Meenakshi\n"
     ]
    }
   ],
   "source": [
    "# convert str to list\n",
    "s = \"Meenakshi\"\n",
    "l = list(s)\n",
    "print(s)\n",
    "print(l)\n",
    "\n",
    "# convert list into a string\n",
    "l2 = ['M', 'e', 'e', 'n', 'a', 'k', 's', 'h', 'i']\n",
    "print(''.join(l2))\n"
   ]
  },
  {
   "cell_type": "code",
   "execution_count": 6,
   "metadata": {},
   "outputs": [
    {
     "name": "stdout",
     "output_type": "stream",
     "text": [
      "Meenakshi\n"
     ]
    }
   ],
   "source": [
    "# Another way of coverting list to string\n",
    "l = ['M', 'e', 'e', 'n', 'a', 'k', 's', 'h', 'i']\n",
    "s = ''\n",
    "for i in l:\n",
    "    s = s+i\n",
    "print(s)    "
   ]
  },
  {
   "cell_type": "markdown",
   "metadata": {},
   "source": [
    "Notes\n",
    "1. shallow copy - stores references of objects (faster)\n",
    "                - reflects any changes made to the new/copied object in original object\n",
    "2. deep copy - stores object's value (comparatively slower)\n",
    "             - doesn't reflect any changes made to the new/copied object in original object\n",
    "3. Decorators - Modifies functionality of a function (@)             "
   ]
  },
  {
   "cell_type": "code",
   "execution_count": 1,
   "metadata": {},
   "outputs": [
    {
     "name": "stdout",
     "output_type": "stream",
     "text": [
      "Original Dictionary:\n",
      "{'key1': [1, 2, 3, 4], 'key2': {'inner_key': ['a', 'b', 'c']}}\n",
      "\n",
      "Shallow Copied Dictionary:\n",
      "{'key1': [1, 2, 3, 4], 'key2': {'inner_key': ['a', 'b', 'c']}}\n",
      "\n",
      "Deep Copied Dictionary:\n",
      "{'key1': [1, 2, 3], 'key2': {'inner_key': ['a', 'b', 'c']}}\n"
     ]
    }
   ],
   "source": [
    "import copy\n",
    "\n",
    "# Example dictionary with nested lists\n",
    "original_dict = {\n",
    "    'key1': [1, 2, 3],\n",
    "    'key2': {'inner_key': ['a', 'b', 'c']}\n",
    "}\n",
    "\n",
    "# Shallow copy\n",
    "shallow_copied_dict = copy.copy(original_dict)\n",
    "\n",
    "# Deep copy\n",
    "deep_copied_dict = copy.deepcopy(original_dict)\n",
    "\n",
    "# Modify original_dict to demonstrate effects on copies\n",
    "original_dict['key1'].append(4)  # Modify the original dictionary's nested list\n",
    "\n",
    "# Displaying the original and copied dictionaries\n",
    "print(\"Original Dictionary:\")\n",
    "print(original_dict)\n",
    "print(\"\\nShallow Copied Dictionary:\")\n",
    "print(shallow_copied_dict)\n",
    "print(\"\\nDeep Copied Dictionary:\")\n",
    "print(deep_copied_dict)\n"
   ]
  },
  {
   "cell_type": "markdown",
   "metadata": {},
   "source": [
    "  Lamda Function (A function without a name- Anonymous Function)\n",
    "- takes any no arguments but can only have one expression"
   ]
  },
  {
   "cell_type": "code",
   "execution_count": 1,
   "metadata": {},
   "outputs": [
    {
     "data": {
      "text/plain": [
       "'MEENAKSHI'"
      ]
     },
     "execution_count": 1,
     "metadata": {},
     "output_type": "execute_result"
    }
   ],
   "source": [
    "# Example 1\n",
    "s = \"meenakshi\"\n",
    "upper = lambda st:st.upper() # upper is like name of function & st is like variable\n",
    "upper(s) #calling function with value s"
   ]
  },
  {
   "cell_type": "code",
   "execution_count": 2,
   "metadata": {},
   "outputs": [
    {
     "data": {
      "text/plain": [
       "216"
      ]
     },
     "execution_count": 2,
     "metadata": {},
     "output_type": "execute_result"
    }
   ],
   "source": [
    "# Example 2\n",
    "n = 6\n",
    "cube = lambda x:x*x*x\n",
    "cube(n)"
   ]
  },
  {
   "cell_type": "markdown",
   "metadata": {},
   "source": [
    "Slicing ( Access specific range of elements )\n",
    "- [ start:stop:step ]\n",
    "- start -> 0\n",
    "- stop -> stop-1\n",
    "- step -> 1 "
   ]
  },
  {
   "cell_type": "code",
   "execution_count": 14,
   "metadata": {},
   "outputs": [
    {
     "name": "stdout",
     "output_type": "stream",
     "text": [
      "[4, 6, 8, 1, 3, 5, 7]\n",
      "[4, 2]\n",
      "[9, 7, 5, 3, 1, 8, 6, 4, 2]\n",
      "[9]\n",
      "[7, 9]\n",
      "[3, 1, 8, 6]\n",
      "[3, 1, 8]\n",
      "[3, 1, 8, 6, 4, 2]\n"
     ]
    }
   ],
   "source": [
    "l = [2,4,6,8,1,3,5,7,9]\n",
    "print(l[1:-1])\n",
    "print(l[1::-1])\n",
    "print(l[::-1])\n",
    "print(l[-1::])\n",
    "print(l[-2::])\n",
    "print(l[5:1:-1])\n",
    "print(l[5:2:-1])\n",
    "print(l[5::-1])"
   ]
  },
  {
   "cell_type": "markdown",
   "metadata": {},
   "source": [
    "Practice Coding Questions"
   ]
  },
  {
   "cell_type": "code",
   "execution_count": 2,
   "metadata": {},
   "outputs": [
    {
     "name": "stdout",
     "output_type": "stream",
     "text": [
      "True\n",
      "False\n"
     ]
    }
   ],
   "source": [
    "# Search for the item in list\n",
    "l = [2,4,6,8,1,3,5,7,9]\n",
    "print( 6 in l)\n",
    "print(12 in l)"
   ]
  },
  {
   "cell_type": "markdown",
   "metadata": {},
   "source": [
    "Exception Handling\n",
    "- try -> checks error\n",
    "- except -> handles error\n",
    "- finally -> executes even if there are some errors"
   ]
  },
  {
   "cell_type": "code",
   "execution_count": 1,
   "metadata": {},
   "outputs": [
    {
     "name": "stdout",
     "output_type": "stream",
     "text": [
      "something went wrong\n",
      "please try again\n",
      "thank you\n"
     ]
    }
   ],
   "source": [
    "try:\n",
    "    print(x)\n",
    "except:\n",
    "    print(\"something went wrong\")\n",
    "    print(\"please try again\")\n",
    "finally:\n",
    "    print(\"thank you\")        "
   ]
  },
  {
   "cell_type": "markdown",
   "metadata": {},
   "source": [
    "Coding Quest"
   ]
  },
  {
   "cell_type": "markdown",
   "metadata": {},
   "source": [
    "_Check for an Armstrong no (sum of cube of each digit is the number itself)_"
   ]
  },
  {
   "cell_type": "code",
   "execution_count": 2,
   "metadata": {},
   "outputs": [
    {
     "name": "stdout",
     "output_type": "stream",
     "text": [
      "Not an armstrong no\n"
     ]
    }
   ],
   "source": [
    "# Check for an Armstrong no.\n",
    "# n = 153  (An Armstrong no)\n",
    "n=int(input(\"enter n\"))\n",
    "temp = n\n",
    "sum = 0\n",
    "while n>0:\n",
    "    digit = n%10\n",
    "    sum = sum+digit**3\n",
    "    n=n//10\n",
    "if sum==temp:\n",
    "    print(\"Armstrong No\") \n",
    "else:\n",
    "    print(\"Not an armstrong no\")       \n",
    " "
   ]
  },
  {
   "cell_type": "markdown",
   "metadata": {},
   "source": [
    "_Check for palindrome_"
   ]
  },
  {
   "cell_type": "code",
   "execution_count": 4,
   "metadata": {},
   "outputs": [
    {
     "name": "stdout",
     "output_type": "stream",
     "text": [
      "Not Palindrome\n"
     ]
    }
   ],
   "source": [
    "n=int(input(\"enter n\"))\n",
    "temp = n\n",
    "rev = 0\n",
    "while n>0:\n",
    "    rem = n%10\n",
    "    rev = (rev*10)+rem\n",
    "    n=n//10\n",
    "if rev==temp:\n",
    "    print(\"Palindrome\") \n",
    "else:\n",
    "    print(\"Not Palindrome\")       "
   ]
  },
  {
   "cell_type": "markdown",
   "metadata": {},
   "source": [
    "_Check for prime no_"
   ]
  },
  {
   "cell_type": "code",
   "execution_count": 6,
   "metadata": {},
   "outputs": [
    {
     "name": "stdout",
     "output_type": "stream",
     "text": [
      "Not a prime no\n"
     ]
    }
   ],
   "source": [
    "n = int(input(\"enter n\"))\n",
    "flag = False\n",
    "temp = n\n",
    "if n>1:\n",
    "    for i in range(2,n):\n",
    "        if (n%2==0):\n",
    "            flag = True\n",
    "            break\n",
    "if flag:\n",
    "    print(\"Not a prime no\")\n",
    "else:\n",
    "    print(\"prime no\")            "
   ]
  },
  {
   "cell_type": "markdown",
   "metadata": {},
   "source": [
    "_Check given string is Anagram or not (All characters of string1 are present in string2 irrespective of thier order)_\n",
    "- Ex : listen and silent"
   ]
  },
  {
   "cell_type": "code",
   "execution_count": 7,
   "metadata": {},
   "outputs": [
    {
     "name": "stdout",
     "output_type": "stream",
     "text": [
      "Given string is Anagram\n"
     ]
    }
   ],
   "source": [
    "def check_Ang(s1,s2):\n",
    "    if (sorted(s1)==sorted(s2)):\n",
    "        # Sorted() - will not affects the original value \n",
    "        print(\"Given string is Anagram\")\n",
    "    else:\n",
    "        print(\"Not Anagram\")    \n",
    "\n",
    "s1 = input(\"enter string 1\")\n",
    "s2 = input(\"enter string 2\")\n",
    "check_Ang(s1,s2)"
   ]
  },
  {
   "cell_type": "markdown",
   "metadata": {},
   "source": [
    "_Maximum of three Nos_"
   ]
  },
  {
   "cell_type": "code",
   "execution_count": 11,
   "metadata": {},
   "outputs": [
    {
     "name": "stdout",
     "output_type": "stream",
     "text": [
      "24 is Max no\n"
     ]
    }
   ],
   "source": [
    "def max(a,b,c):\n",
    "    if a>b and a>c :\n",
    "        print(a, \"is Max No\")\n",
    "    elif b>a and b>c:\n",
    "        print(b,\"is Max no\") \n",
    "    else:\n",
    "        print(c,\"is Max no\")\n",
    "a = int(input('enter a'))\n",
    "b = int(input('enter b'))\n",
    "c = int(input('enter c'))\n",
    "max(a,b,c)"
   ]
  },
  {
   "cell_type": "markdown",
   "metadata": {},
   "source": [
    "_Swapping of two no without third variable_"
   ]
  },
  {
   "cell_type": "code",
   "execution_count": 12,
   "metadata": {},
   "outputs": [
    {
     "name": "stdout",
     "output_type": "stream",
     "text": [
      "Before Swapping\n",
      "a = 20\n",
      "b = 40\n",
      "After Swapping\n",
      "a = 40\n",
      "b = 20\n"
     ]
    }
   ],
   "source": [
    "a = int(input(\"enter a\"))\n",
    "b = int(input(\"enter b\"))\n",
    "print(\"Before Swapping\")\n",
    "print(\"a =\",a)\n",
    "print(\"b =\",b)\n",
    "a = a+b\n",
    "b = a-b\n",
    "a = a-b\n",
    "print(\"After Swapping\")\n",
    "print(\"a =\",a)\n",
    "print(\"b =\",b)\n"
   ]
  },
  {
   "cell_type": "markdown",
   "metadata": {},
   "source": [
    "_Factorial of a no_"
   ]
  },
  {
   "cell_type": "code",
   "execution_count": 16,
   "metadata": {},
   "outputs": [
    {
     "name": "stdout",
     "output_type": "stream",
     "text": [
      "720\n"
     ]
    }
   ],
   "source": [
    "n = int(input(\"enter n\"))\n",
    "fact = 1\n",
    "if n<0:\n",
    "    print(\"Sorry fact of nagative no doesn't exist\")\n",
    "elif n==0: \n",
    "    print(\"fact of 0 is 1\")   \n",
    "else:\n",
    "    for i in range(1,n+1):\n",
    "       fact = fact * i\n",
    "    print(fact)"
   ]
  },
  {
   "cell_type": "markdown",
   "metadata": {},
   "source": [
    "_Fibonacci Series_"
   ]
  },
  {
   "cell_type": "code",
   "execution_count": 18,
   "metadata": {},
   "outputs": [
    {
     "name": "stdout",
     "output_type": "stream",
     "text": [
      "0 1 1 2 3 5 8 13 "
     ]
    }
   ],
   "source": [
    "n = int(input(\"enter n\"))\n",
    "n1,n2 = 0,1\n",
    "c = 0\n",
    "print(n1,n2,end=\" \")\n",
    "while c<n:\n",
    "    n3=n1+n2\n",
    "    n1=n2\n",
    "    n2=n3\n",
    "    print(n3,end=' ')\n",
    "    c +=1\n",
    "\n"
   ]
  },
  {
   "cell_type": "markdown",
   "metadata": {},
   "source": [
    "_LCM and GCD of two nos_\n",
    "_LCM (smallest no divisible by the two numbers evenly)_\n",
    "_GCD (Greatest common factor that divides them exactly)_"
   ]
  },
  {
   "cell_type": "code",
   "execution_count": 21,
   "metadata": {},
   "outputs": [
    {
     "name": "stdout",
     "output_type": "stream",
     "text": [
      "Given nos are  4 6\n",
      "GCD =  2\n",
      "LCM =  12\n"
     ]
    }
   ],
   "source": [
    "x = int(input(\"Enter X value\"))\n",
    "y = int(input(\"Enter Y value\"))\n",
    "print(\"Given nos are \", x, y)\n",
    "if x<y:\n",
    "    smaller = x\n",
    "else:\n",
    "    smaller = y\n",
    "for i in range(1,smaller+1):\n",
    "    if ((x%i==0) and (y%i==0)):\n",
    "        gcd = i\n",
    "lcm = (x*y)//gcd\n",
    "print(\"GCD = \", gcd)\n",
    "print(\"LCM = \", lcm)                "
   ]
  },
  {
   "cell_type": "markdown",
   "metadata": {},
   "source": [
    "Patterns Quest"
   ]
  },
  {
   "cell_type": "markdown",
   "metadata": {},
   "source": [
    "_Right Traiangle Star Printing_"
   ]
  },
  {
   "cell_type": "code",
   "execution_count": 24,
   "metadata": {},
   "outputs": [
    {
     "name": "stdout",
     "output_type": "stream",
     "text": [
      "* \n",
      "* * \n",
      "* * * \n",
      "* * * * \n",
      "* * * * * \n",
      "* * * * * * \n"
     ]
    }
   ],
   "source": [
    "def print_star(n):\n",
    "    for i in range(0,n):\n",
    "        for j in range(0,i+1):\n",
    "            print(\"*\", end=\" \")\n",
    "        print(\"\\r\")\n",
    "\n",
    "n = int(input(\"enter n\"))   \n",
    "print_star(n)         "
   ]
  },
  {
   "cell_type": "code",
   "execution_count": 26,
   "metadata": {},
   "outputs": [
    {
     "name": "stdout",
     "output_type": "stream",
     "text": [
      "* \t\n",
      "* * \t\n",
      "* * * \t\n",
      "* * * * \t\n",
      "* * * * * \t\n",
      "* * * * * * \t\n"
     ]
    }
   ],
   "source": [
    "def print_star(n):\n",
    "    for i in range(0,n):\n",
    "        for j in range(0,i+1):\n",
    "            print(\"*\", end=\" \")\n",
    "        print(\"\\t\")\n",
    "\n",
    "n = int(input(\"enter n\"))   \n",
    "print_star(n)         "
   ]
  },
  {
   "cell_type": "markdown",
   "metadata": {},
   "source": [
    "_Star Tringle Print_"
   ]
  },
  {
   "cell_type": "code",
   "execution_count": 31,
   "metadata": {},
   "outputs": [
    {
     "name": "stdout",
     "output_type": "stream",
     "text": [
      "       * \n",
      "      * * \n",
      "     * * * \n",
      "    * * * * \n",
      "   * * * * * \n",
      "  * * * * * * \n",
      " * * * * * * * \n",
      "* * * * * * * * \n"
     ]
    }
   ],
   "source": [
    "def print_star(n):\n",
    "    k = n-1\n",
    "    for i in range(0,n):\n",
    "        for j in range(0,k):\n",
    "            print(end=\" \")\n",
    "        k = k - 1\n",
    "        for j in range(0,i+1):\n",
    "            print(\"* \", end=\"\")\n",
    "        print(\"\\r\")\n",
    "\n",
    "n = int(input(\"enter n\"))   \n",
    "print_star(n)         "
   ]
  },
  {
   "cell_type": "markdown",
   "metadata": {},
   "source": [
    "_Asymptotic Notations (bot)_\n",
    "- Big O - Worst case time comp(upper bond) (Running time doesnt cross O(g(n)))\n",
    "- Big Omega - Best case time comp(lower bond) (Minimun time required by algo omega(g(n)))\n",
    "- Big Theta - Avg time comp"
   ]
  },
  {
   "cell_type": "code",
   "execution_count": 1,
   "metadata": {},
   "outputs": [
    {
     "name": "stdout",
     "output_type": "stream",
     "text": [
      "[4, 8, 10, 12, 16, 20]\n"
     ]
    }
   ],
   "source": [
    "l = [2,4,5,6,8,10]\n",
    "l2 = []\n",
    "for i in range(len(l)):\n",
    "    m = 2*l[i]\n",
    "    l2.append(m)\n",
    "print(l2)    "
   ]
  },
  {
   "cell_type": "markdown",
   "metadata": {},
   "source": [
    "_To find pairs that can be formed from a given array_"
   ]
  },
  {
   "cell_type": "code",
   "execution_count": 6,
   "metadata": {},
   "outputs": [
    {
     "name": "stdout",
     "output_type": "stream",
     "text": [
      "10\n",
      "[(2, 4), (2, 6), (2, 8), (2, 10), (4, 6), (4, 8), (4, 10), (6, 8), (6, 10), (8, 10)]\n"
     ]
    }
   ],
   "source": [
    "def find_pairs(arr):\n",
    "    pairs = []\n",
    "    c = 0\n",
    "    for i in range(len(arr)):\n",
    "        for j in range(i+1,len(arr)):\n",
    "            pairs.append((arr[i],arr[j]))\n",
    "    for i in pairs:\n",
    "        c = c + 1\n",
    "    print(c)    \n",
    "    return pairs        \n",
    "\n",
    "arr = [2,4,6,8,10]\n",
    "print(find_pairs(arr))\n",
    "\n"
   ]
  },
  {
   "cell_type": "markdown",
   "metadata": {},
   "source": [
    "_Missing No from the given array_"
   ]
  },
  {
   "cell_type": "code",
   "execution_count": 3,
   "metadata": {},
   "outputs": [
    {
     "name": "stdout",
     "output_type": "stream",
     "text": [
      "5\n"
     ]
    }
   ],
   "source": [
    "def MissNo(arr):\n",
    "    actual_sum = len(arr)*(len(arr)+1)//2      # n*(n+1)//2 ----> Total_Sum\n",
    "    calculated_sum = sum(arr)\n",
    "    return actual_sum-calculated_sum\n",
    "arr = [0,1,4,2,6,3]\n",
    "print(MissNo(arr))"
   ]
  },
  {
   "cell_type": "markdown",
   "metadata": {},
   "source": [
    "_Intersection of Arrays_"
   ]
  },
  {
   "cell_type": "code",
   "execution_count": 6,
   "metadata": {},
   "outputs": [
    {
     "name": "stdout",
     "output_type": "stream",
     "text": [
      "Intersection: [2, 6]\n"
     ]
    }
   ],
   "source": [
    "def find_intersection(nums1, nums2):\n",
    "    set1 = set(nums1)\n",
    "    set2 = set(nums2)\n",
    "    in_sec = set1.intersection(set2)\n",
    "    return list(in_sec)\n",
    "\n",
    "nums1 = [1, 2, 2, 1,5,6]\n",
    "nums2 = [2, 2,6]\n",
    "result = find_intersection(nums1, nums2)\n",
    "print(\"Intersection:\", result)\n"
   ]
  },
  {
   "cell_type": "markdown",
   "metadata": {},
   "source": [
    "_Two Sum Problem_"
   ]
  },
  {
   "cell_type": "code",
   "execution_count": 7,
   "metadata": {},
   "outputs": [
    {
     "name": "stdout",
     "output_type": "stream",
     "text": [
      "Indices of two numbers: [0, 1]\n"
     ]
    }
   ],
   "source": [
    "def two_sum(nums, target):\n",
    "    for i in range(len(nums)):\n",
    "        for j in range(i + 1, len(nums)):\n",
    "            if nums[i] + nums[j] == target:\n",
    "                return [i, j]\n",
    "    return []\n",
    "\n",
    "nums = [2, 7, 11, 15]\n",
    "target = 9\n",
    "result = two_sum(nums, target)\n",
    "if result:\n",
    "    print(\"Indices of two numbers:\", result)\n",
    "else:\n",
    "    print(\"No such pair found\")\n"
   ]
  },
  {
   "cell_type": "markdown",
   "metadata": {},
   "source": [
    "_all palindrome substrings of a given string_"
   ]
  },
  {
   "cell_type": "code",
   "execution_count": 7,
   "metadata": {},
   "outputs": [
    {
     "name": "stdout",
     "output_type": "stream",
     "text": [
      "['a', 'aba', 'ababa', 'b', 'bab', 'a', 'aba', 'b', 'a']\n",
      "9\n"
     ]
    }
   ],
   "source": [
    "def is_palindrome(s):\n",
    "    return s==s[::-1]\n",
    "def generate_substrings(s):\n",
    "    l = len(s)\n",
    "    substrings = []\n",
    "    for i in range(l):\n",
    "        for j in range(i+1,l+1):\n",
    "            substring = s[i:j]\n",
    "            if is_palindrome(substring):\n",
    "                substrings.append(substring)           \n",
    "    return substrings\n",
    "s = \"ababa\"\n",
    "result = generate_substrings(s)\n",
    "print(result)\n",
    "c = 0\n",
    "for i in range(len(result)):\n",
    "    c = c + 1\n",
    "print(c)    "
   ]
  },
  {
   "cell_type": "markdown",
   "metadata": {},
   "source": [
    "_Matrix Representation_"
   ]
  },
  {
   "cell_type": "code",
   "execution_count": 1,
   "metadata": {},
   "outputs": [
    {
     "name": "stdout",
     "output_type": "stream",
     "text": [
      "Matrix:\n",
      "2 4 \n",
      "6 8 \n"
     ]
    }
   ],
   "source": [
    "def create_matrix(rows, cols):\n",
    "    matrix = []\n",
    "    for i in range(rows):\n",
    "        row = []\n",
    "        for j in range(cols):\n",
    "            element = int(input(f\"Enter element at position ({i + 1}, {j + 1}): \"))\n",
    "            row.append(element)\n",
    "        matrix.append(row)\n",
    "    return matrix\n",
    "\n",
    "def display_matrix(matrix):\n",
    "    for row in matrix:\n",
    "        for element in row:\n",
    "            print(element, end=\" \")\n",
    "        print()\n",
    "\n",
    "rows = int(input(\"Enter the number of rows: \"))\n",
    "cols = int(input(\"Enter the number of columns: \"))\n",
    "\n",
    "matrix = create_matrix(rows, cols)\n",
    "\n",
    "print(\"Matrix:\")\n",
    "display_matrix(matrix)\n"
   ]
  },
  {
   "cell_type": "markdown",
   "metadata": {},
   "source": [
    "_to find duplicate and missing element_"
   ]
  },
  {
   "cell_type": "code",
   "execution_count": 3,
   "metadata": {},
   "outputs": [
    {
     "name": "stdout",
     "output_type": "stream",
     "text": [
      "Duplicate(s): [6]\n",
      "Missing number(s): [2]\n"
     ]
    }
   ],
   "source": [
    "def find_duplicates_and_missing_elements(input_list):\n",
    "    # Find duplicate value\n",
    "    duplicates = set()\n",
    "    unique_elements = set()\n",
    "    for num in input_list:\n",
    "        if num in unique_elements:\n",
    "            duplicates.add(num)\n",
    "        else:\n",
    "            unique_elements.add(num)\n",
    "\n",
    "    # Find missing number\n",
    "    n = len(input_list) + 1\n",
    "    all_numbers = set(range(1, n))\n",
    "    missing_numbers = all_numbers - unique_elements\n",
    "\n",
    "    return list(duplicates), list(missing_numbers)\n",
    "\n",
    "# Example usage\n",
    "#input_list = [1, 2, 3, 4, 4, 5, 6, 7, 8, 9]\n",
    "input_list = [1, 3, 4, 5, 6, 6, 7, 8, 9]\n",
    "\n",
    "duplicates, missing_numbers = find_duplicates_and_missing_elements(input_list)\n",
    "\n",
    "print(\"Duplicate(s):\", duplicates)\n",
    "print(\"Missing number(s):\", missing_numbers)\n"
   ]
  },
  {
   "cell_type": "markdown",
   "metadata": {},
   "source": [
    "_string to binary and binary to string conversion_"
   ]
  },
  {
   "cell_type": "code",
   "execution_count": 5,
   "metadata": {},
   "outputs": [
    {
     "name": "stdout",
     "output_type": "stream",
     "text": [
      "Binary representation of the string: 01110111011011110111001001100100\n",
      "String converted back from binary: word\n"
     ]
    }
   ],
   "source": [
    "# Convert string to binary\n",
    "input_string = \"word\"\n",
    "binary_representation = ''.join(format(byte, '08b') for byte in input_string.encode())\n",
    "\n",
    "# Convert binary back to string\n",
    "original_string = bytes(int(binary_representation[i:i+8], 2) for i in range(0, len(binary_representation), 8)).decode()\n",
    "print(\"Binary representation of the string:\", binary_representation)\n",
    "print(\"String converted back from binary:\", original_string)\n"
   ]
  },
  {
   "cell_type": "code",
   "execution_count": 14,
   "metadata": {},
   "outputs": [
    {
     "name": "stdout",
     "output_type": "stream",
     "text": [
      "{2, 3, 4, 6, 8, 9, 12}\n"
     ]
    }
   ],
   "source": [
    "def gen_mul(arr):\n",
    "    l = len(arr)\n",
    "    k = 3\n",
    "    mul = []\n",
    "    for i in range(1,k+1):\n",
    "        #for j in range(2,l+1):\n",
    "        for j in arr:\n",
    "           ele = i * j\n",
    "           mul.append(ele)\n",
    "\n",
    "    return mul\n",
    "arr = [2,3,4]  #out = [2,4,6,3,6,9,4,8,12]\n",
    "result = gen_mul(arr)\n",
    "print(set(result))\n",
    "   "
   ]
  },
  {
   "cell_type": "markdown",
   "metadata": {},
   "source": [
    "Paul and Nina are studying in different cities. It’s been a long time since they last met. They make plans to meet but something happens and the plan is postponed. This time they both are adamant and decide on a popular cafe to meet which is at a distance of P km from Paul’s place and N km from Nina’s place.\n",
    "\n",
    "Both of them start their journey in their respective vehicles. Paul drives his vehicle at a constant speed of X km/hr and Nina drives at a constant speed of Y km/hr. It is a long journey and the road is not appropriate which results in causing troubles for both of them with none or several punctures. The time required for the repair is exactly 1 hour.\n",
    "\n",
    "Your task is to determine who among them reached the meeting point first and the time taken by that individual.\n",
    "There are 3 possible cases which can occur:\n",
    "1. Paul reaches first.\n",
    "2. Nina reaches first.\n",
    "3. Both of them reach at the same time.\n",
    "\n",
    "\n",
    "Input Format\n",
    "The first line of input consists of an integer, T, number of test cases.\n",
    "The first line of each test case consists of three space-separated integers, P, X and R1 representing the distance between meeting point and Paul’s place, constant speed of Paul’s vehicle and the number of repairs required by Paul.\n",
    "The second line of each test case consists of three space-separated integers, N, Y and R2 representing the distance between meeting point and Nina’s place, constant speed of Nina’s vehicle and the number of repairs required by Nina.\n",
    "\n",
    "\n",
    "Constraints\n",
    "1<= T <=10\n",
    "1<= P, N <=10^4\n",
    "1<= X, Y <=10^4\n",
    "0<= R1, R2 <=100\n",
    "\n",
    "\n",
    "Output Format\n",
    "There are 3 possible scenarios:\n",
    "1. PAUL reaches first.\n",
    "First line of output should print, “PAUL”. Second line of output should print the time taken by him to reach the meeting point.\n",
    "\n",
    "2. NINA reaches first.\n",
    "First line of output should print, “NINA”. Second line of output should print the time taken by her to reach the meeting point.\n",
    "\n",
    "3. BOTH of them reach at the same time.\n",
    "First line of output should print, “BOTH”. Second line of output should print the time taken by any of them to reach the meeting point.\n",
    "\n",
    "Note: The time taken should be printed in hours as an integer.\n",
    "\n",
    "\n",
    "Sample TestCase 1\n",
    "Input\n",
    "2\n",
    "15 5 1\n",
    "20 10 2\n",
    "100 50 2\n",
    "50 10 1\n",
    "Output\n",
    "BOTH\n",
    "4\n",
    "PAUL\n",
    "4\n",
    "Explanation\n",
    "Test Case 1:\n",
    "\n",
    "Time taken by PAUL is 4 hours.\n",
    "Time taken by NINA is 4 hrs.\n",
    "\n",
    "Both of them reach the meeting point at the same time.\n",
    "\n",
    "Test Case 2:\n",
    "Time taken by PAUL is 4 hours.\n",
    "Time taken by NINA is 6 hrs.\n",
    "\n",
    "PAUL reaches the meeting point first in 4 hours."
   ]
  },
  {
   "cell_type": "code",
   "execution_count": null,
   "metadata": {},
   "outputs": [],
   "source": [
    "T = int(input())\n",
    "for i in range(T):\n",
    "    P, X, R1 = map(int,input().split())\n",
    "    N, Y, R2 = map(int,input().split())\n",
    "    time_P = (P/X) + R1\n",
    "    time_N = (N/Y) + R2\n",
    "\n",
    "    if time_P < time_N:\n",
    "        print(\"PAUL\")\n",
    "        print(int(time_P))\n",
    "    elif time_P > time_N:\n",
    "        print(\"NINA\")\n",
    "        print(int(time_N))    \n",
    "    else:\n",
    "        print(\"BOTH\")\n",
    "        print(int(time_N))  "
   ]
  },
  {
   "cell_type": "code",
   "execution_count": null,
   "metadata": {},
   "outputs": [],
   "source": [
    "#2D Array creation\n",
    "r = int(input(\"enter rows\"))\n",
    "c = int(input(\"enter cols\"))\n",
    "arr = []\n",
    "\n",
    "for i in range(r):\n",
    "    row = []\n",
    "    for j in range(c):\n",
    "        a = int(input(f\"enter ele at position ({i}, {j})\"))\n",
    "        row.append(a)\n",
    "    arr.append(row)      \n",
    "\n",
    "print(\"2D Array is: \")\n",
    "for r in arr:\n",
    "    print(r)\n",
    "    \n",
    "        "
   ]
  }
 ],
 "metadata": {
  "kernelspec": {
   "display_name": "Python 3",
   "language": "python",
   "name": "python3"
  },
  "language_info": {
   "codemirror_mode": {
    "name": "ipython",
    "version": 3
   },
   "file_extension": ".py",
   "mimetype": "text/x-python",
   "name": "python",
   "nbconvert_exporter": "python",
   "pygments_lexer": "ipython3",
   "version": "3.9.6"
  },
  "orig_nbformat": 4
 },
 "nbformat": 4,
 "nbformat_minor": 2
}
