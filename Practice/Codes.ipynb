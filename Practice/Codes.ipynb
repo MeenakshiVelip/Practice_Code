{
 "cells": [
  {
   "cell_type": "markdown",
   "metadata": {},
   "source": [
    "Sum of Numbers when range is given"
   ]
  },
  {
   "cell_type": "code",
   "execution_count": 4,
   "metadata": {},
   "outputs": [
    {
     "data": {
      "text/plain": [
       "55"
      ]
     },
     "execution_count": 4,
     "metadata": {},
     "output_type": "execute_result"
    }
   ],
   "source": [
    "sum(range(1,11))"
   ]
  },
  {
   "cell_type": "markdown",
   "metadata": {},
   "source": [
    "Find sum and average using sum"
   ]
  },
  {
   "cell_type": "code",
   "execution_count": 6,
   "metadata": {},
   "outputs": [
    {
     "name": "stdout",
     "output_type": "stream",
     "text": [
      "sum is = 30\n",
      "Avg is = 6\n"
     ]
    }
   ],
   "source": [
    "l = [2,4,6,8,10]\n",
    "s = sum(l)\n",
    "print(\"sum is =\",s)\n",
    "avg =s//len(l)\n",
    "print(\"Avg is =\",avg)"
   ]
  },
  {
   "cell_type": "markdown",
   "metadata": {},
   "source": [
    "Reverse list elements"
   ]
  },
  {
   "cell_type": "code",
   "execution_count": 7,
   "metadata": {},
   "outputs": [
    {
     "name": "stdout",
     "output_type": "stream",
     "text": [
      "[10, 8, 6, 4, 2]\n"
     ]
    }
   ],
   "source": [
    "l = [2,4,6,8,10]\n",
    "print(l[::-1])"
   ]
  },
  {
   "cell_type": "code",
   "execution_count": 8,
   "metadata": {},
   "outputs": [
    {
     "name": "stdout",
     "output_type": "stream",
     "text": [
      "True\n"
     ]
    }
   ],
   "source": [
    "l = [1,2,4,2,1]\n",
    "print(l==l[::-1])"
   ]
  },
  {
   "cell_type": "markdown",
   "metadata": {},
   "source": [
    "Tuples Codes"
   ]
  },
  {
   "cell_type": "code",
   "execution_count": 14,
   "metadata": {},
   "outputs": [
    {
     "name": "stdout",
     "output_type": "stream",
     "text": [
      "<class 'tuple'>\n",
      "[2, 4, 6, 8, 10]\n",
      "<class 'list'>\n",
      "30\n"
     ]
    }
   ],
   "source": [
    "t = (2,4,6,8,10)\n",
    "print(type(t))\n",
    "l = list(t)\n",
    "print(l)\n",
    "print(type(l))\n",
    "print(sum(t))"
   ]
  },
  {
   "cell_type": "code",
   "execution_count": 12,
   "metadata": {},
   "outputs": [
    {
     "name": "stdout",
     "output_type": "stream",
     "text": [
      "<class 'tuple'>\n"
     ]
    }
   ],
   "source": [
    "t = (1,)\n",
    "print(type(t))"
   ]
  },
  {
   "cell_type": "markdown",
   "metadata": {},
   "source": [
    "Sets Codes"
   ]
  },
  {
   "cell_type": "code",
   "execution_count": 15,
   "metadata": {},
   "outputs": [
    {
     "name": "stdout",
     "output_type": "stream",
     "text": [
      "<class 'set'>\n"
     ]
    }
   ],
   "source": [
    "s = {1}\n",
    "print(type(s))"
   ]
  },
  {
   "cell_type": "code",
   "execution_count": 17,
   "metadata": {},
   "outputs": [
    {
     "name": "stdout",
     "output_type": "stream",
     "text": [
      "30\n"
     ]
    }
   ],
   "source": [
    "s = {2,4,6,8,10,10}\n",
    "print(sum(s))"
   ]
  },
  {
   "cell_type": "markdown",
   "metadata": {},
   "source": [
    "Dictionary Codes"
   ]
  },
  {
   "cell_type": "code",
   "execution_count": 22,
   "metadata": {},
   "outputs": [
    {
     "name": "stdout",
     "output_type": "stream",
     "text": [
      "<class 'dict'>\n",
      "4\n",
      "dict_keys([1, 2, 3, 4])\n",
      "dict_values(['A', 'B', 'C', 'D'])\n",
      "dict_items([(1, 'A'), (2, 'B'), (3, 'C'), (4, 'D')])\n"
     ]
    }
   ],
   "source": [
    "d = {\n",
    "    1:\"A\",\n",
    "    2:\"B\",\n",
    "    3:\"C\",\n",
    "    4:\"D\"\n",
    "}\n",
    "print(type(d))\n",
    "print(len(d))\n",
    "print(d.keys())\n",
    "print(d.values())\n",
    "print(d.items())"
   ]
  },
  {
   "cell_type": "markdown",
   "metadata": {},
   "source": [
    "Strings Codes"
   ]
  },
  {
   "cell_type": "code",
   "execution_count": 3,
   "metadata": {},
   "outputs": [
    {
     "data": {
      "text/plain": [
       "str"
      ]
     },
     "execution_count": 3,
     "metadata": {},
     "output_type": "execute_result"
    }
   ],
   "source": [
    "s = \"Meenakshi\"\n",
    "type(s)"
   ]
  },
  {
   "cell_type": "code",
   "execution_count": 5,
   "metadata": {},
   "outputs": [
    {
     "name": "stdout",
     "output_type": "stream",
     "text": [
      "Meenakshi\n",
      "['M', 'e', 'e', 'n', 'a', 'k', 's', 'h', 'i']\n",
      "Meenakshi\n"
     ]
    }
   ],
   "source": [
    "# convert str to list\n",
    "s = \"Meenakshi\"\n",
    "l = list(s)\n",
    "print(s)\n",
    "print(l)\n",
    "\n",
    "# convert list into a string\n",
    "l2 = ['M', 'e', 'e', 'n', 'a', 'k', 's', 'h', 'i']\n",
    "print(''.join(l2))\n"
   ]
  },
  {
   "cell_type": "code",
   "execution_count": 6,
   "metadata": {},
   "outputs": [
    {
     "name": "stdout",
     "output_type": "stream",
     "text": [
      "Meenakshi\n"
     ]
    }
   ],
   "source": [
    "# Another way of coverting list to string\n",
    "l = ['M', 'e', 'e', 'n', 'a', 'k', 's', 'h', 'i']\n",
    "s = ''\n",
    "for i in l:\n",
    "    s = s+i\n",
    "print(s)    "
   ]
  },
  {
   "cell_type": "markdown",
   "metadata": {},
   "source": [
    "Notes\n",
    "1. shallow copy - stores references of objects (faster)\n",
    "                - reflects any changes made to the new/copied object in original object\n",
    "2. deep copy - stores object's value (comparatively slower)\n",
    "             - doesn't reflect any changes made to the new/copied object in original object\n",
    "3. Decorators - Modifies functionality of a function (@)             "
   ]
  },
  {
   "cell_type": "markdown",
   "metadata": {},
   "source": [
    "Lamda Function (A function without a name- Anonymous Function)\n",
    "- takes any no arguments but can only have one expression"
   ]
  },
  {
   "cell_type": "code",
   "execution_count": 1,
   "metadata": {},
   "outputs": [
    {
     "data": {
      "text/plain": [
       "'MEENAKSHI'"
      ]
     },
     "execution_count": 1,
     "metadata": {},
     "output_type": "execute_result"
    }
   ],
   "source": [
    "# Example 1\n",
    "s = \"meenakshi\"\n",
    "upper = lambda st:st.upper() # upper is like name of function & st is like variable\n",
    "upper(s) #calling function with value s"
   ]
  },
  {
   "cell_type": "code",
   "execution_count": 2,
   "metadata": {},
   "outputs": [
    {
     "data": {
      "text/plain": [
       "216"
      ]
     },
     "execution_count": 2,
     "metadata": {},
     "output_type": "execute_result"
    }
   ],
   "source": [
    "# Example 2\n",
    "n = 6\n",
    "cube = lambda x:x*x*x\n",
    "cube(n)"
   ]
  },
  {
   "cell_type": "markdown",
   "metadata": {},
   "source": [
    "Slicing ( Access specific range of elements )\n",
    "- [ start:stop:step ]\n",
    "- start -> 0\n",
    "- stop -> stop-1\n",
    "- step -> 1 "
   ]
  },
  {
   "cell_type": "code",
   "execution_count": 14,
   "metadata": {},
   "outputs": [
    {
     "name": "stdout",
     "output_type": "stream",
     "text": [
      "[4, 6, 8, 1, 3, 5, 7]\n",
      "[4, 2]\n",
      "[9, 7, 5, 3, 1, 8, 6, 4, 2]\n",
      "[9]\n",
      "[7, 9]\n",
      "[3, 1, 8, 6]\n",
      "[3, 1, 8]\n",
      "[3, 1, 8, 6, 4, 2]\n"
     ]
    }
   ],
   "source": [
    "l = [2,4,6,8,1,3,5,7,9]\n",
    "print(l[1:-1])\n",
    "print(l[1::-1])\n",
    "print(l[::-1])\n",
    "print(l[-1::])\n",
    "print(l[-2::])\n",
    "print(l[5:1:-1])\n",
    "print(l[5:2:-1])\n",
    "print(l[5::-1])"
   ]
  },
  {
   "cell_type": "markdown",
   "metadata": {},
   "source": [
    "Practice Coding Questions"
   ]
  },
  {
   "cell_type": "code",
   "execution_count": null,
   "metadata": {},
   "outputs": [
    {
     "name": "stdout",
     "output_type": "stream",
     "text": [
      "a = 20\n",
      "b = 40\n",
      "a = 40\n",
      "b = 20\n"
     ]
    },
    {
     "name": "stdout",
     "output_type": "stream",
     "text": [
      "a = 20\n",
      "b = 40\n",
      "a = 40\n",
      "b = 20\n"
     ]
    }
   ],
   "source": [
    "# Swap Elements\n",
    "a = 20\n",
    "b = 40\n",
    "print(\"a =\",a)\n",
    "print(\"b =\",b)\n",
    "a = a+b\n",
    "b = a-b\n",
    "a = a-b\n",
    "print(\"a =\",a)\n",
    "print(\"b =\",b)\n"
   ]
  },
  {
   "cell_type": "code",
   "execution_count": null,
   "metadata": {},
   "outputs": [
    {
     "name": "stdout",
     "output_type": "stream",
     "text": [
      "0\n"
     ]
    }
   ],
   "source": [
    "# fact of no\n",
    "#n = int(input(\"enter n\"))\n",
    "n = 5\n",
    "fact = 1\n",
    "for i in range(n):\n",
    "    fact = fact * i\n",
    "print(fact)"
   ]
  }
 ],
 "metadata": {
  "kernelspec": {
   "display_name": "Python 3",
   "language": "python",
   "name": "python3"
  },
  "language_info": {
   "codemirror_mode": {
    "name": "ipython",
    "version": 3
   },
   "file_extension": ".py",
   "mimetype": "text/x-python",
   "name": "python",
   "nbconvert_exporter": "python",
   "pygments_lexer": "ipython3",
   "version": "3.9.6"
  },
  "orig_nbformat": 4
 },
 "nbformat": 4,
 "nbformat_minor": 2
}
